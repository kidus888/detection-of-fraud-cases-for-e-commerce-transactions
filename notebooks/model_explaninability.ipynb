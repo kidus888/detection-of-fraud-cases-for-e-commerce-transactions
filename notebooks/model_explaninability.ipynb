{
 "cells": [
  {
   "cell_type": "code",
   "execution_count": null,
   "metadata": {},
   "outputs": [],
   "source": [
    "import sys\n",
    "sys.path.append('../scripts')"
   ]
  },
  {
   "cell_type": "code",
   "execution_count": null,
   "metadata": {},
   "outputs": [],
   "source": [
    "# Import custom explainability functions\n",
    "from scripts.model_explainability import shap_explain_model, lime_explain_instance\n",
    "\n",
    "# Example: Assuming you have a trained model and preprocessed data\n",
    "# Substitute `model`, `X_train`, and `X_test` with your actual variables\n",
    "\n",
    "# SHAP Explanation\n",
    "shap_explain_model(model, X_train, X_test)\n",
    "\n",
    "# LIME Explanation for a single instance (e.g., the first instance in the test set)\n",
    "lime_explain_instance(model, X_train, X_test, index=0)"
   ]
  }
 ],
 "metadata": {
  "language_info": {
   "name": "python"
  }
 },
 "nbformat": 4,
 "nbformat_minor": 2
}
