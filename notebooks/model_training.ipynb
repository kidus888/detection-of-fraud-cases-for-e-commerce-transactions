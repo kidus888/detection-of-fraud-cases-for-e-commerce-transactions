{
 "cells": [
  {
   "cell_type": "code",
   "execution_count": null,
   "metadata": {},
   "outputs": [],
   "source": [
    "import pandas as pd\n",
    "from scripts.model_training import prepare_data, split_data, train_model, log_experiment\n",
    "from scripts.neural_networks import build_cnn, build_rnn, build_lstm, train_neural_network\n",
    "from sklearn.linear_model import LogisticRegression\n",
    "from sklearn.tree import DecisionTreeClassifier\n",
    "from sklearn.ensemble import RandomForestClassifier, GradientBoostingClassifier"
   ]
  },
  {
   "cell_type": "code",
   "execution_count": null,
   "metadata": {},
   "outputs": [],
   "source": [
    "# Load datasets\n",
    "credit_card_df = pd.read_csv('../data/creditcard.csv')\n",
    "fraud_df = pd.read_csv('../data/Fraud_Data.csv')"
   ]
  },
  {
   "cell_type": "code",
   "execution_count": null,
   "metadata": {},
   "outputs": [],
   "source": [
    "# Prepare data for both datasets\n",
    "X_credit, y_credit = prepare_data(credit_card_df, 'Class')\n",
    "X_fraud, y_fraud = prepare_data(fraud_df, 'class')"
   ]
  },
  {
   "cell_type": "code",
   "execution_count": null,
   "metadata": {},
   "outputs": [],
   "source": [
    "# Split data\n",
    "X_credit_train, X_credit_test, y_credit_train, y_credit_test = split_data(X_credit, y_credit)\n",
    "X_fraud_train, X_fraud_test, y_fraud_train, y_fraud_test = split_data(X_fraud, y_fraud)"
   ]
  },
  {
   "cell_type": "code",
   "execution_count": null,
   "metadata": {},
   "outputs": [],
   "source": [
    "# Model training with Logistic Regression (for example)\n",
    "lr_model = LogisticRegression()\n",
    "accuracy, conf_matrix, report = train_model(lr_model, X_credit_train, X_credit_test, y_credit_train, y_credit_test)"
   ]
  },
  {
   "cell_type": "code",
   "execution_count": null,
   "metadata": {},
   "outputs": [],
   "source": [
    "# Log experiment\n",
    "log_experiment('Logistic Regression', accuracy, conf_matrix, report, lr_model.get_params())"
   ]
  },
  {
   "cell_type": "code",
   "execution_count": null,
   "metadata": {},
   "outputs": [],
   "source": [
    "# Train CNN for fraud detection\n",
    "input_shape = (X_fraud_train.shape[1], 1)\n",
    "cnn_model = build_cnn(input_shape)\n",
    "accuracy, conf_matrix, report = train_neural_network(cnn_model, X_fraud_train, X_fraud_test, y_fraud_train, y_fraud_test)"
   ]
  },
  {
   "cell_type": "code",
   "execution_count": null,
   "metadata": {},
   "outputs": [],
   "source": [
    "# Log CNN experiment in MLflow\n",
    "log_experiment('CNN', accuracy, conf_matrix, report, {'model': 'CNN'})"
   ]
  }
 ],
 "metadata": {
  "language_info": {
   "name": "python"
  }
 },
 "nbformat": 4,
 "nbformat_minor": 2
}
